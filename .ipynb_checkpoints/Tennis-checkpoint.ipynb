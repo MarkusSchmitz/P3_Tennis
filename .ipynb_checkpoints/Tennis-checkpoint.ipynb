{
 "cells": [
  {
   "cell_type": "markdown",
   "metadata": {},
   "source": [
    "# Collaboration and Competition\n",
    "\n",
    "---\n",
    "\n",
    "You are welcome to use this coding environment to train your agent for the project.  Follow the instructions below to get started!\n",
    "\n",
    "### 1. Start the Environment\n",
    "\n",
    "Run the next code cell to install a few packages.  This line will take a few minutes to run!"
   ]
  },
  {
   "cell_type": "code",
   "execution_count": 1,
   "metadata": {},
   "outputs": [],
   "source": [
    "#!pip -q install ./python\n",
    "#!pip -q install tqdm"
   ]
  },
  {
   "cell_type": "markdown",
   "metadata": {},
   "source": [
    "The environment is already saved in the Workspace and can be accessed at the file path provided below. "
   ]
  },
  {
   "cell_type": "code",
   "execution_count": 2,
   "metadata": {},
   "outputs": [
    {
     "name": "stderr",
     "output_type": "stream",
     "text": [
      "INFO:unityagents:\n",
      "'Academy' started successfully!\n",
      "Unity Academy name: Academy\n",
      "        Number of Brains: 1\n",
      "        Number of External Brains : 1\n",
      "        Lesson number : 0\n",
      "        Reset Parameters :\n",
      "\t\t\n",
      "Unity brain name: TennisBrain\n",
      "        Number of Visual Observations (per agent): 0\n",
      "        Vector Observation space type: continuous\n",
      "        Vector Observation space size (per agent): 8\n",
      "        Number of stacked Vector Observation: 3\n",
      "        Vector Action space type: continuous\n",
      "        Vector Action space size (per agent): 2\n",
      "        Vector Action descriptions: , \n"
     ]
    }
   ],
   "source": [
    "from unityagents import UnityEnvironment\n",
    "import numpy as np\n",
    "import pandas as pd\n",
    "from tqdm import tnrange, tqdm_notebook\n",
    "import seaborn as sns\n",
    "sns.set\n",
    "\n",
    "#env = UnityEnvironment(file_name=\"/data/Tennis_Linux_NoVis/Tennis\")\n",
    "env = UnityEnvironment(file_name=\"Tennis.app\")\n",
    "train = True"
   ]
  },
  {
   "cell_type": "markdown",
   "metadata": {},
   "source": [
    "Environments contain **_brains_** which are responsible for deciding the actions of their associated agents. Here we check for the first brain available, and set it as the default brain we will be controlling from Python."
   ]
  },
  {
   "cell_type": "code",
   "execution_count": 3,
   "metadata": {},
   "outputs": [],
   "source": [
    "# get the default brain\n",
    "brain_name = env.brain_names[0]\n",
    "brain = env.brains[brain_name]"
   ]
  },
  {
   "cell_type": "markdown",
   "metadata": {},
   "source": [
    "### 2. Examine the State and Action Spaces\n",
    "\n",
    "Run the code cell below to print some information about the environment."
   ]
  },
  {
   "cell_type": "code",
   "execution_count": 4,
   "metadata": {},
   "outputs": [
    {
     "name": "stdout",
     "output_type": "stream",
     "text": [
      "Number of agents: 2\n",
      "Size of each action: 2\n",
      "There are 2 agents. Each observes a state with length: 24\n",
      "The state for the first agent looks like: [ 0.          0.          0.          0.          0.          0.\n",
      "  0.          0.          0.          0.          0.          0.\n",
      "  0.          0.          0.          0.         -6.65278625 -1.5\n",
      " -0.          0.          6.83172083  6.         -0.          0.        ]\n"
     ]
    }
   ],
   "source": [
    "# reset the environment\n",
    "env_info = env.reset(train_mode=True)[brain_name]\n",
    "\n",
    "# number of agents \n",
    "num_agents = len(env_info.agents)\n",
    "print('Number of agents:', num_agents)\n",
    "\n",
    "# size of each action\n",
    "action_size = brain.vector_action_space_size\n",
    "print('Size of each action:', action_size)\n",
    "\n",
    "# examine the state space \n",
    "states = env_info.vector_observations\n",
    "state_size = states.shape[1]\n",
    "print('There are {} agents. Each observes a state with length: {}'.format(states.shape[0], state_size))\n",
    "print('The state for the first agent looks like:', states[0])"
   ]
  },
  {
   "cell_type": "markdown",
   "metadata": {},
   "source": [
    "### 3. Take Random Actions in the Environment\n",
    "\n",
    "In the next code cell, you will learn how to use the Python API to control the agent and receive feedback from the environment.\n",
    "\n",
    "Note that **in this coding environment, you will not be able to watch the agents while they are training**, and you should set `train_mode=True` to restart the environment."
   ]
  },
  {
   "cell_type": "code",
   "execution_count": 5,
   "metadata": {},
   "outputs": [
    {
     "data": {
      "text/plain": [
       "\"\\nfor i in range(5):                                         # play game for 5 episodes\\n    env_info = env.reset(train_mode=False)[brain_name]     # reset the environment    \\n    states = env_info.vector_observations                  # get the current state (for each agent)\\n    scores = np.zeros(num_agents)                          # initialize the score (for each agent)\\n    while True:\\n        actions = np.random.randn(num_agents, action_size) # select an action (for each agent)\\n        actions = np.clip(actions, -1, 1)                  # all actions between -1 and 1\\n        env_info = env.step(actions)[brain_name]           # send all actions to tne environment\\n        next_states = env_info.vector_observations         # get next state (for each agent)\\n        rewards = env_info.rewards                         # get reward (for each agent)\\n        dones = env_info.local_done                        # see if episode finished\\n        scores += env_info.rewards                         # update the score (for each agent)\\n        states = next_states                               # roll over states to next time step\\n        if np.any(dones):                                  # exit loop if episode finished\\n            break\\n    print('Total score (averaged over agents) this episode: {}'.format(np.mean(scores)))\\n\""
      ]
     },
     "execution_count": 5,
     "metadata": {},
     "output_type": "execute_result"
    }
   ],
   "source": [
    "'''\n",
    "for i in range(5):                                         # play game for 5 episodes\n",
    "    env_info = env.reset(train_mode=False)[brain_name]     # reset the environment    \n",
    "    states = env_info.vector_observations                  # get the current state (for each agent)\n",
    "    scores = np.zeros(num_agents)                          # initialize the score (for each agent)\n",
    "    while True:\n",
    "        actions = np.random.randn(num_agents, action_size) # select an action (for each agent)\n",
    "        actions = np.clip(actions, -1, 1)                  # all actions between -1 and 1\n",
    "        env_info = env.step(actions)[brain_name]           # send all actions to tne environment\n",
    "        next_states = env_info.vector_observations         # get next state (for each agent)\n",
    "        rewards = env_info.rewards                         # get reward (for each agent)\n",
    "        dones = env_info.local_done                        # see if episode finished\n",
    "        scores += env_info.rewards                         # update the score (for each agent)\n",
    "        states = next_states                               # roll over states to next time step\n",
    "        if np.any(dones):                                  # exit loop if episode finished\n",
    "            break\n",
    "    print('Total score (averaged over agents) this episode: {}'.format(np.mean(scores)))\n",
    "'''"
   ]
  },
  {
   "cell_type": "markdown",
   "metadata": {},
   "source": [
    "# Initialize Agents"
   ]
  },
  {
   "cell_type": "code",
   "execution_count": 5,
   "metadata": {},
   "outputs": [],
   "source": [
    "# Load the Agent from the ddpg_agent file\n",
    "from maddpg_agent import Agent, ReplayBuffer\n",
    "from collections import deque\n",
    "import torch\n",
    "import torch.nn.functional as F\n",
    "import torch.optim as optim\n",
    "device = torch.device(\"cuda:0\" if torch.cuda.is_available() else \"cpu\")\n",
    "from model import Actor, Critic\n",
    "\n",
    "import matplotlib.pyplot as plt\n",
    "%matplotlib inline\n",
    "\n",
    "# initialize the agent and the environment\n",
    "#[Agent(state_size=state_size, action_size=action_size, random_seed=0, memory = memory, critic_target = critic_target) for count in range(num_agents)]\n",
    "\n",
    "# Initialize agent and shared memory (for multi-agent use)\n",
    "BUFFER_SIZE = int(1e6)  # replay buffer size\n",
    "BATCH_SIZE = 256        # minibatch size\n",
    "random_seed = 42\n",
    "\n",
    "actor_target = Actor(state_size, action_size, random_seed).to(device)\n",
    "critic_target = Critic(state_size, action_size, random_seed).to(device)\n",
    "\n",
    "memory = ReplayBuffer(action_size, BUFFER_SIZE, BATCH_SIZE, random_seed)\n",
    "agents = [Agent(state_size=state_size, action_size=action_size, random_seed=random_seed, \n",
    "                memory = memory, actor_target = actor_target)for _ in range(num_agents)]\n"
   ]
  },
  {
   "cell_type": "markdown",
   "metadata": {},
   "source": [
    "# Train the Agents"
   ]
  },
  {
   "cell_type": "code",
   "execution_count": 7,
   "metadata": {},
   "outputs": [],
   "source": [
    "#training function\n",
    "def ddpg(n_episodes=2500, max_t=1000, PRINT_EVERY=100):\n",
    "    reached = False\n",
    "    scores_deque = deque(maxlen=100)\n",
    "    \n",
    "    max_score = -np.Inf\n",
    "    eps = tnrange(1, n_episodes+1)                             # counter for episodes (for time eval)\n",
    "    for i_episode in eps:\n",
    "        global data\n",
    "        global thresh\n",
    "        env_info = env.reset(train_mode=True)[brain_name]      # reset the environment    \n",
    "        states = env_info.vector_observations                  # get the current state (for each agent)\n",
    "        scores = np.zeros(num_agents)                          # initialize the score (for each agent)\n",
    "        [agents[i].reset() for i in range(num_agents)]\n",
    "        #steps = tnrange(max_t, leave = False)                  # counter for steps (for time eval)\n",
    "        steps = range(max_t)\n",
    "        for t in steps:\n",
    "            # write last score to counter\n",
    "            #print(t)\n",
    "            actions = [agents[i].act(states[i]) for i in range(num_agents)] # calculate next action with actor net\n",
    "            dings.append(actions)\n",
    "            #print(actions)\n",
    "            f = actions[0][0].tolist()\n",
    "            s = actions[1][0].tolist()\n",
    "            actions = list([f,s])\n",
    "            actions = np.clip(actions, -1, 1)\n",
    "            #print(actions)\n",
    "            env_info = env.step(actions)[brain_name]           # send all actions to tne environment\n",
    "            next_states = env_info.vector_observations         # get next state (for each agent)\n",
    "            rewards = env_info.rewards                         # get reward (for each agent)\n",
    "            dones = env_info.local_done                        # see if episode finished\n",
    "            [agents[i].step(states[i], actions[i], rewards[i], next_states[i], dones[i]) for i in range(num_agents)]\n",
    "            states = next_states\n",
    "            scores += rewards\n",
    "            if np.any(dones):\n",
    "                break\n",
    "                \n",
    "        score = np.max(scores)                                # save scores for evaluation\n",
    "        scores_deque.append(score)\n",
    "        scores_hist.append(score)\n",
    "        \n",
    "        data = data.append({\"episode\": i_episode, \"score\":score, \"avg\" : np.mean(scores_deque)}, ignore_index=True)\n",
    "        eps.set_description(\"max score is %f, avg is %f\" % (score, data.iloc[-1][\"avg\"]))\n",
    "        \n",
    "        if i_episode % PRINT_EVERY == 0:\n",
    "            print('\\rEpisode {}\\tMax Score: {:.2f}\\tAverage over last 100: {:.2f}'.format(i_episode, np.max(scores_deque), np.mean(scores_deque)))   \n",
    "        if (np.mean(scores_deque) > thresh + 0.1):\n",
    "            print('\\nEnvironment solved in {:d} episodes!\\tAverage Score: {:.2f}'.format(i_episode, np.max(scores_deque)))\n",
    "            torch.save(agents[0].actor_local.state_dict(), 'saved_models/checkpoint_actor_new.pth')\n",
    "            torch.save(agents[0].critic_local.state_dict(), 'saved_models/checkpoint_critic_new.pth')\n",
    "            thresh = np.max(scores_deque)\n",
    "            reached = True\n",
    "            #break\n",
    "        \n",
    "    return scores_hist, agents[0]"
   ]
  },
  {
   "cell_type": "code",
   "execution_count": 8,
   "metadata": {},
   "outputs": [
    {
     "data": {
      "application/vnd.jupyter.widget-view+json": {
       "model_id": "c24808d596574f3c9483591c7d983bbc",
       "version_major": 2,
       "version_minor": 0
      },
      "text/plain": [
       "HBox(children=(IntProgress(value=0, max=2500), HTML(value='')))"
      ]
     },
     "metadata": {},
     "output_type": "display_data"
    },
    {
     "name": "stdout",
     "output_type": "stream",
     "text": [
      "Episode 100\tMax Score: 0.00\tAverage over last 100: 0.00\n",
      "Episode 200\tMax Score: 0.10\tAverage over last 100: 0.01\n",
      "Episode 300\tMax Score: 0.10\tAverage over last 100: 0.01\n",
      "Episode 400\tMax Score: 0.10\tAverage over last 100: 0.01\n",
      "Episode 500\tMax Score: 0.20\tAverage over last 100: 0.04\n",
      "Episode 600\tMax Score: 0.20\tAverage over last 100: 0.08\n",
      "Episode 700\tMax Score: 0.50\tAverage over last 100: 0.13\n",
      "Episode 800\tMax Score: 0.89\tAverage over last 100: 0.17\n",
      "Episode 900\tMax Score: 1.40\tAverage over last 100: 0.24\n",
      "\n",
      "Environment solved in 960 episodes!\tAverage Score: 2.70\n",
      "Episode 1000\tMax Score: 2.70\tAverage over last 100: 0.71\n",
      "Episode 1100\tMax Score: 2.70\tAverage over last 100: 0.85\n",
      "Episode 1200\tMax Score: 2.60\tAverage over last 100: 0.63\n",
      "Episode 1300\tMax Score: 2.70\tAverage over last 100: 1.60\n",
      "Episode 1400\tMax Score: 2.70\tAverage over last 100: 0.76\n",
      "Episode 1500\tMax Score: 2.60\tAverage over last 100: 0.56\n",
      "Episode 1600\tMax Score: 2.70\tAverage over last 100: 1.11\n",
      "Episode 1700\tMax Score: 2.60\tAverage over last 100: 0.42\n",
      "Episode 1800\tMax Score: 2.70\tAverage over last 100: 0.75\n",
      "Episode 1900\tMax Score: 2.70\tAverage over last 100: 0.91\n",
      "Episode 2000\tMax Score: 2.60\tAverage over last 100: 0.77\n",
      "Episode 2100\tMax Score: 2.70\tAverage over last 100: 0.78\n",
      "Episode 2200\tMax Score: 2.60\tAverage over last 100: 0.45\n",
      "Episode 2300\tMax Score: 2.70\tAverage over last 100: 1.11\n",
      "Episode 2400\tMax Score: 2.70\tAverage over last 100: 0.71\n",
      "Episode 2500\tMax Score: 2.70\tAverage over last 100: 1.11\n",
      "\n"
     ]
    }
   ],
   "source": [
    "if train:\n",
    "    dings = []\n",
    "    scores_hist = []\n",
    "    data = pd.DataFrame(columns=[\"episode\", \"score\", \"avg\"])\n",
    "    thresh = 0.4\n",
    "    scores, agent = ddpg()\n",
    "    import pandas as pd\n",
    "    \n",
    "    \n"
   ]
  },
  {
   "cell_type": "code",
   "execution_count": 9,
   "metadata": {},
   "outputs": [
    {
     "data": {
      "image/png": "[encoded data removed]",
      "text/plain": [
       "<Figure size 432x288 with 1 Axes>"
      ]
     },
     "metadata": {
      "needs_background": "light"
     },
     "output_type": "display_data"
    }
   ],
   "source": [
    "if train:\n",
    "    fig = plt.figure()\n",
    "    ax = fig.add_subplot(111)\n",
    "    plt.plot(np.arange(1, len(scores_hist)+1), scores_hist)\n",
    "    plt.plot(np.arange(1, len(scores_hist)+1), data[\"avg\"])\n",
    "    #plt.plot(x = np.arange(1, len(scores)+1), y = 30, data = data)\n",
    "    plt.ylabel('Score')\n",
    "    plt.xlabel('Episode #')\n",
    "    plt.show()"
   ]
  },
  {
   "cell_type": "code",
   "execution_count": 6,
   "metadata": {},
   "outputs": [
    {
     "name": "stdout",
     "output_type": "stream",
     "text": [
      "Score: 2.60\n",
      "Score: 2.70\tcurrent average: 2.60\n",
      "Score: 2.60\tcurrent average: 2.63\n",
      "Score: 0.30\tcurrent average: 2.62\n",
      "Score: 2.60\tcurrent average: 2.04\n",
      "Score: 2.70\tcurrent average: 2.15\n",
      "Score: 2.60\tcurrent average: 2.23\n",
      "Score: 2.70\tcurrent average: 2.29\n",
      "Score: 0.00\tcurrent average: 2.33\n",
      "Score: 0.00\tcurrent average: 2.07\n",
      "Score: 2.60\tcurrent average: 1.86\n",
      "Score: 2.70\tcurrent average: 1.93\n",
      "Score: 2.30\tcurrent average: 1.99\n",
      "Score: 2.60\tcurrent average: 2.01\n",
      "Score: 2.70\tcurrent average: 2.05\n",
      "Score: 2.60\tcurrent average: 2.09\n",
      "Score: 2.70\tcurrent average: 2.12\n",
      "Score: 2.60\tcurrent average: 2.15\n",
      "Score: 2.70\tcurrent average: 2.18\n",
      "Score: 2.70\tcurrent average: 2.20\n",
      "Score: 2.60\tcurrent average: 2.23\n",
      "Score: 2.70\tcurrent average: 2.24\n",
      "Score: 0.00\tcurrent average: 2.26\n",
      "Score: 2.60\tcurrent average: 2.16\n",
      "Score: 2.70\tcurrent average: 2.18\n",
      "Score: 2.60\tcurrent average: 2.20\n",
      "Score: 2.70\tcurrent average: 2.22\n",
      "Score: 2.70\tcurrent average: 2.23\n",
      "Score: 2.60\tcurrent average: 2.25\n",
      "Score: 2.70\tcurrent average: 2.26\n",
      "Score: 2.60\tcurrent average: 2.27\n",
      "Score: 2.70\tcurrent average: 2.28\n",
      "Score: 2.70\tcurrent average: 2.29\n",
      "Score: 2.60\tcurrent average: 2.31\n",
      "Score: 2.70\tcurrent average: 2.31\n",
      "Score: 2.70\tcurrent average: 2.32\n",
      "Score: 2.60\tcurrent average: 2.33\n",
      "Score: 2.70\tcurrent average: 2.34\n",
      "Score: 2.60\tcurrent average: 2.35\n",
      "Score: 2.70\tcurrent average: 2.35\n",
      "Score: 2.60\tcurrent average: 2.36\n",
      "Score: 1.10\tcurrent average: 2.37"
     ]
    },
    {
     "name": "stderr",
     "output_type": "stream",
     "text": [
      "ERROR:root:Internal Python error in the inspect module.\n",
      "Below is the traceback from this internal error.\n",
      "\n",
      "INFO:root:\n",
      "Unfortunately, your original traceback can not be constructed.\n",
      "\n"
     ]
    },
    {
     "name": "stdout",
     "output_type": "stream",
     "text": [
      "Traceback (most recent call last):\n",
      "  File \"/anaconda3/envs/drlnd/lib/python3.6/site-packages/IPython/core/interactiveshell.py\", line 3296, in run_code\n",
      "    exec(code_obj, self.user_global_ns, self.user_ns)\n",
      "  File \"<ipython-input-6-9c5a088fd265>\", line 22, in <module>\n",
      "    actions = [agents[i].act(states[i]) for i in range(num_agents)] # calculate next action with actor net\n",
      "  File \"<ipython-input-6-9c5a088fd265>\", line 22, in <listcomp>\n",
      "    actions = [agents[i].act(states[i]) for i in range(num_agents)] # calculate next action with actor net\n",
      "  File \"/Users/q457306/OneDrive - BMW Group/Code/P3_Tennis/maddpg_agent.py\", line 90, in act\n",
      "    action = self.actor_local(state).cpu().data.numpy()\n",
      "  File \"/anaconda3/envs/drlnd/lib/python3.6/site-packages/torch/nn/modules/module.py\", line 491, in __call__\n",
      "    result = self.forward(*input, **kwargs)\n",
      "  File \"/Users/q457306/OneDrive - BMW Group/Code/P3_Tennis/model.py\", line 45, in forward\n",
      "    x = self.bn1(x)\n",
      "  File \"/anaconda3/envs/drlnd/lib/python3.6/site-packages/torch/nn/modules/module.py\", line 491, in __call__\n",
      "    result = self.forward(*input, **kwargs)\n",
      "  File \"/anaconda3/envs/drlnd/lib/python3.6/site-packages/torch/nn/modules/batchnorm.py\", line 49, in forward\n",
      "    self.training or not self.track_running_stats, self.momentum, self.eps)\n",
      "  File \"/anaconda3/envs/drlnd/lib/python3.6/site-packages/torch/nn/functional.py\", line 1194, in batch_norm\n",
      "    training, momentum, eps, torch.backends.cudnn.enabled\n",
      "KeyboardInterrupt\n",
      "\n",
      "During handling of the above exception, another exception occurred:\n",
      "\n",
      "Traceback (most recent call last):\n",
      "  File \"/anaconda3/envs/drlnd/lib/python3.6/site-packages/IPython/core/interactiveshell.py\", line 2033, in showtraceback\n",
      "    stb = value._render_traceback_()\n",
      "AttributeError: 'KeyboardInterrupt' object has no attribute '_render_traceback_'\n",
      "\n",
      "During handling of the above exception, another exception occurred:\n",
      "\n",
      "Traceback (most recent call last):\n",
      "  File \"/anaconda3/envs/drlnd/lib/python3.6/site-packages/IPython/core/ultratb.py\", line 1095, in get_records\n",
      "    return _fixed_getinnerframes(etb, number_of_lines_of_context, tb_offset)\n",
      "  File \"/anaconda3/envs/drlnd/lib/python3.6/site-packages/IPython/core/ultratb.py\", line 313, in wrapped\n",
      "    return f(*args, **kwargs)\n",
      "  File \"/anaconda3/envs/drlnd/lib/python3.6/site-packages/IPython/core/ultratb.py\", line 347, in _fixed_getinnerframes\n",
      "    records = fix_frame_records_filenames(inspect.getinnerframes(etb, context))\n",
      "  File \"/anaconda3/envs/drlnd/lib/python3.6/inspect.py\", line 1490, in getinnerframes\n",
      "    frameinfo = (tb.tb_frame,) + getframeinfo(tb, context)\n",
      "  File \"/anaconda3/envs/drlnd/lib/python3.6/inspect.py\", line 1448, in getframeinfo\n",
      "    filename = getsourcefile(frame) or getfile(frame)\n",
      "  File \"/anaconda3/envs/drlnd/lib/python3.6/inspect.py\", line 696, in getsourcefile\n",
      "    if getattr(getmodule(object, filename), '__loader__', None) is not None:\n",
      "  File \"/anaconda3/envs/drlnd/lib/python3.6/inspect.py\", line 742, in getmodule\n",
      "    os.path.realpath(f)] = module.__name__\n",
      "  File \"/anaconda3/envs/drlnd/lib/python3.6/posixpath.py\", line 395, in realpath\n",
      "    path, ok = _joinrealpath(filename[:0], filename, {})\n",
      "  File \"/anaconda3/envs/drlnd/lib/python3.6/posixpath.py\", line 429, in _joinrealpath\n",
      "    if not islink(newpath):\n",
      "  File \"/anaconda3/envs/drlnd/lib/python3.6/posixpath.py\", line 171, in islink\n",
      "    st = os.lstat(path)\n",
      "KeyboardInterrupt\n"
     ]
    },
    {
     "ename": "KeyboardInterrupt",
     "evalue": "",
     "output_type": "error",
     "traceback": [
      "\u001b[0;31m---------------------------------------------------------------------------\u001b[0m"
     ]
    }
   ],
   "source": [
    "import time\n",
    "train = False\n",
    "if train == False:\n",
    "    n_episodes = 100 # number of runs\n",
    "    max_t = 1000   # max number of steps to solve env \n",
    "    score_hist = []\n",
    "    # load the trained agent\n",
    "    for agent in agents:\n",
    "        agent.actor_local.load_state_dict(torch.load('saved_models/checkpoint_actor_new.pth',map_location='cpu'))\n",
    "        agent.critic_local.load_state_dict(torch.load('saved_models/checkpoint_critic_new.pth',map_location='cpu'))\n",
    "    \n",
    "    # iterate over runs\n",
    "    for i_episode in range(1, n_episodes+1):\n",
    "        \n",
    "        # get environment infos and set first state\n",
    "        env_info = env.reset(train_mode=True)[brain_name]      # reset the environment    \n",
    "        states = env_info.vector_observations                  # get the current state (for each agent)\n",
    "        scores = np.zeros(num_agents)                          # initialize the score (for each agent)\n",
    "        # run until finished or max steps\n",
    "        for t in range(max_t):\n",
    "            \n",
    "            actions = [agents[i].act(states[i]) for i in range(num_agents)] # calculate next action with actor net\n",
    "            first = actions[0][0].tolist()\n",
    "            second = actions[1][0].tolist()\n",
    "            actions = list([first,second])\n",
    "            actions = np.clip(actions, -1, 1)\n",
    "            env_info = env.step(actions)[brain_name]           # send all actions to tne environment\n",
    "            next_states = env_info.vector_observations         # get next state (for each agent)\n",
    "            rewards = env_info.rewards                         # get reward (for each agent)\n",
    "            dones = env_info.local_done                        # see if episode finished\n",
    "            states = next_states\n",
    "            scores += rewards\n",
    "            \n",
    "            # update environment info\n",
    "            \n",
    "            #time.sleep(0.006) # makes actions visable for humans (~60 fps)\n",
    "            print('\\rScore: {:.2f}'.format(np.max(scores)), end=\"\")\n",
    "            if np.any(dones):\n",
    "                break \n",
    "        score_hist.append(scores)\n",
    "        print('\\nScore: {:.2f}\\tcurrent average: {:.2f}'.format(np.max(scores), np.mean(score_hist)), end=\"\")"
   ]
  },
  {
   "cell_type": "markdown",
   "metadata": {},
   "source": [
    "When finished, you can close the environment."
   ]
  },
  {
   "cell_type": "code",
   "execution_count": null,
   "metadata": {},
   "outputs": [],
   "source": [
    "#env.close()"
   ]
  },
  {
   "cell_type": "markdown",
   "metadata": {},
   "source": [
    "### 4. It's Your Turn!\n",
    "\n",
    "Now it's your turn to train your own agent to solve the environment!  A few **important notes**:\n",
    "- When training the environment, set `train_mode=True`, so that the line for resetting the environment looks like the following:\n",
    "```python\n",
    "env_info = env.reset(train_mode=True)[brain_name]\n",
    "```\n",
    "- To structure your work, you're welcome to work directly in this Jupyter notebook, or you might like to start over with a new file!  You can see the list of files in the workspace by clicking on **_Jupyter_** in the top left corner of the notebook.\n",
    "- In this coding environment, you will not be able to watch the agents while they are training.  However, **_after training the agents_**, you can download the saved model weights to watch the agents on your own machine! "
   ]
  },
  {
   "cell_type": "code",
   "execution_count": null,
   "metadata": {},
   "outputs": [],
   "source": []
  },
  {
   "cell_type": "code",
   "execution_count": null,
   "metadata": {},
   "outputs": [],
   "source": []
  }
 ],
 "metadata": {
  "kernelspec": {
   "display_name": "drlnd",
   "language": "python",
   "name": "drlnd"
  },
  "language_info": {
   "codemirror_mode": {
    "name": "ipython",
    "version": 3
   },
   "file_extension": ".py",
   "mimetype": "text/x-python",
   "name": "python",
   "nbconvert_exporter": "python",
   "pygments_lexer": "ipython3",
   "version": "3.6.8"
  },
  "varInspector": {
   "cols": {
    "lenName": 16,
    "lenType": 16,
    "lenVar": 40
   },
   "kernels_config": {
    "python": {
     "delete_cmd_postfix": "",
     "delete_cmd_prefix": "del ",
     "library": "var_list.py",
     "varRefreshCmd": "print(var_dic_list())"
    },
    "r": {
     "delete_cmd_postfix": ") ",
     "delete_cmd_prefix": "rm(",
     "library": "var_list.r",
     "varRefreshCmd": "cat(var_dic_list()) "
    }
   },
   "types_to_exclude": [
    "module",
    "function",
    "builtin_function_or_method",
    "instance",
    "_Feature"
   ],
   "window_display": false
  }
 },
 "nbformat": 4,
 "nbformat_minor": 2
}
